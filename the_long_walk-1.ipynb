{
 "cells": [
  {
   "cell_type": "code",
   "execution_count": 2,
   "metadata": {},
   "outputs": [],
   "source": [
    "import pandas as pd\n",
    "import re\n",
    "import os\n",
    "import nltk\n",
    "from nltk.tokenize import word_tokenize\n",
    "from nltk.corpus import stopwords\n",
    "from sklearn.preprocessing import LabelEncoder\n",
    "from sklearn.model_selection import train_test_split\n",
    "from sklearn.feature_extraction.text import TfidfVectorizer\n",
    "from sklearn.model_selection import train_test_split\n",
    "from nltk.sentiment.vader import SentimentIntensityAnalyzer\n",
    "from sklearn.svm import SVC\n",
    "from sklearn.ensemble import RandomForestClassifier\n",
    "from sklearn.metrics import classification_report, accuracy_score\n",
    "from sklearn.naive_bayes import MultinomialNB\n",
    "import matplotlib.pyplot as plt\n",
    "import seaborn as sns\n",
    "from sklearn.metrics import confusion_matrix"
   ]
  },
  {
   "cell_type": "code",
   "execution_count": 15,
   "metadata": {},
   "outputs": [],
   "source": [
    "# Set NLTK data directory using environment variable\n",
    "nltk.data.path.append('/Users/leoking/Desktop/final_project')\n",
    "\n",
    "\n"
   ]
  },
  {
   "cell_type": "code",
   "execution_count": 4,
   "metadata": {},
   "outputs": [],
   "source": [
    "# Read the CSV file\n",
    "data = pd.read_csv(\"stock_tweets.csv\").copy()"
   ]
  },
  {
   "cell_type": "code",
   "execution_count": 20,
   "metadata": {},
   "outputs": [
    {
     "name": "stdout",
     "output_type": "stream",
     "text": [
      "(80793, 5)\n"
     ]
    },
    {
     "data": {
      "text/html": [
       "<div>\n",
       "<style scoped>\n",
       "    .dataframe tbody tr th:only-of-type {\n",
       "        vertical-align: middle;\n",
       "    }\n",
       "\n",
       "    .dataframe tbody tr th {\n",
       "        vertical-align: top;\n",
       "    }\n",
       "\n",
       "    .dataframe thead th {\n",
       "        text-align: right;\n",
       "    }\n",
       "</style>\n",
       "<table border=\"1\" class=\"dataframe\">\n",
       "  <thead>\n",
       "    <tr style=\"text-align: right;\">\n",
       "      <th></th>\n",
       "      <th>Date</th>\n",
       "      <th>Tweet</th>\n",
       "      <th>Stock Name</th>\n",
       "      <th>Company Name</th>\n",
       "      <th>cleaned_text</th>\n",
       "    </tr>\n",
       "  </thead>\n",
       "  <tbody>\n",
       "    <tr>\n",
       "      <th>0</th>\n",
       "      <td>2022-09-29 23:41:16+00:00</td>\n",
       "      <td>Mainstream media has done an amazing job at br...</td>\n",
       "      <td>TSLA</td>\n",
       "      <td>Tesla, Inc.</td>\n",
       "      <td>Mainstream media has done an amazing job at br...</td>\n",
       "    </tr>\n",
       "    <tr>\n",
       "      <th>1</th>\n",
       "      <td>2022-09-29 23:24:43+00:00</td>\n",
       "      <td>Tesla delivery estimates are at around 364k fr...</td>\n",
       "      <td>TSLA</td>\n",
       "      <td>Tesla, Inc.</td>\n",
       "      <td>Tesla delivery estimates are at around 364k fr...</td>\n",
       "    </tr>\n",
       "    <tr>\n",
       "      <th>2</th>\n",
       "      <td>2022-09-29 23:18:08+00:00</td>\n",
       "      <td>3/ Even if I include 63.0M unvested RSUs as of...</td>\n",
       "      <td>TSLA</td>\n",
       "      <td>Tesla, Inc.</td>\n",
       "      <td>3 Even if I include 63 0M unvested RSUs as of ...</td>\n",
       "    </tr>\n",
       "    <tr>\n",
       "      <th>3</th>\n",
       "      <td>2022-09-29 22:40:07+00:00</td>\n",
       "      <td>@RealDanODowd @WholeMarsBlog @Tesla Hahaha why...</td>\n",
       "      <td>TSLA</td>\n",
       "      <td>Tesla, Inc.</td>\n",
       "      <td>RealDanODowd WholeMarsBlog Tesla Hahaha why ar...</td>\n",
       "    </tr>\n",
       "    <tr>\n",
       "      <th>4</th>\n",
       "      <td>2022-09-29 22:27:05+00:00</td>\n",
       "      <td>@RealDanODowd @Tesla Stop trying to kill kids,...</td>\n",
       "      <td>TSLA</td>\n",
       "      <td>Tesla, Inc.</td>\n",
       "      <td>RealDanODowd Tesla Stop trying to kill kids yo...</td>\n",
       "    </tr>\n",
       "  </tbody>\n",
       "</table>\n",
       "</div>"
      ],
      "text/plain": [
       "                        Date  \\\n",
       "0  2022-09-29 23:41:16+00:00   \n",
       "1  2022-09-29 23:24:43+00:00   \n",
       "2  2022-09-29 23:18:08+00:00   \n",
       "3  2022-09-29 22:40:07+00:00   \n",
       "4  2022-09-29 22:27:05+00:00   \n",
       "\n",
       "                                               Tweet Stock Name Company Name  \\\n",
       "0  Mainstream media has done an amazing job at br...       TSLA  Tesla, Inc.   \n",
       "1  Tesla delivery estimates are at around 364k fr...       TSLA  Tesla, Inc.   \n",
       "2  3/ Even if I include 63.0M unvested RSUs as of...       TSLA  Tesla, Inc.   \n",
       "3  @RealDanODowd @WholeMarsBlog @Tesla Hahaha why...       TSLA  Tesla, Inc.   \n",
       "4  @RealDanODowd @Tesla Stop trying to kill kids,...       TSLA  Tesla, Inc.   \n",
       "\n",
       "                                        cleaned_text  \n",
       "0  Mainstream media has done an amazing job at br...  \n",
       "1  Tesla delivery estimates are at around 364k fr...  \n",
       "2  3 Even if I include 63 0M unvested RSUs as of ...  \n",
       "3  RealDanODowd WholeMarsBlog Tesla Hahaha why ar...  \n",
       "4  RealDanODowd Tesla Stop trying to kill kids yo...  "
      ]
     },
     "execution_count": 20,
     "metadata": {},
     "output_type": "execute_result"
    }
   ],
   "source": [
    "print(data.shape)\n",
    "data.head()"
   ]
  },
  {
   "cell_type": "code",
   "execution_count": 24,
   "metadata": {},
   "outputs": [
    {
     "name": "stdout",
     "output_type": "stream",
     "text": [
      "[[0.         0.4472136  0.         0.         0.         0.4472136\n",
      "  0.         0.4472136  0.         0.4472136  0.         0.\n",
      "  0.         0.         0.4472136  0.         0.         0.        ]\n",
      " [0.57735027 0.         0.         0.         0.         0.\n",
      "  0.         0.         0.         0.         0.57735027 0.\n",
      "  0.         0.57735027 0.         0.         0.         0.        ]\n",
      " [0.         0.         0.         0.5        0.         0.\n",
      "  0.         0.         0.         0.         0.         0.5\n",
      "  0.5        0.         0.         0.         0.         0.5       ]\n",
      " [0.         0.         0.40824829 0.         0.40824829 0.\n",
      "  0.40824829 0.         0.40824829 0.         0.         0.\n",
      "  0.         0.         0.         0.40824829 0.40824829 0.        ]]\n"
     ]
    }
   ],
   "source": [
    "\n",
    "\n",
    "# Example preprocessed tweets\n",
    "preprocessed_tweets = [\n",
    "    \"great day for the markets\",\n",
    "    \"stocks are plummeting\",\n",
    "    \"earnings report was positive\",\n",
    "    \"market uncertainty due to global events\"\n",
    "]\n",
    "\n",
    "# Create TF-IDF vectorizer\n",
    "vectorizer = TfidfVectorizer(max_features=80700)  # You can adjust max_features as needed\n",
    "X = vectorizer.fit_transform(preprocessed_tweets)\n",
    "\n",
    "# X is now a sparse matrix containing the TF-IDF features\n",
    "print(X.toarray())\n"
   ]
  },
  {
   "cell_type": "code",
   "execution_count": 28,
   "metadata": {},
   "outputs": [
    {
     "data": {
      "text/html": [
       "<div>\n",
       "<style scoped>\n",
       "    .dataframe tbody tr th:only-of-type {\n",
       "        vertical-align: middle;\n",
       "    }\n",
       "\n",
       "    .dataframe tbody tr th {\n",
       "        vertical-align: top;\n",
       "    }\n",
       "\n",
       "    .dataframe thead th {\n",
       "        text-align: right;\n",
       "    }\n",
       "</style>\n",
       "<table border=\"1\" class=\"dataframe\">\n",
       "  <thead>\n",
       "    <tr style=\"text-align: right;\">\n",
       "      <th></th>\n",
       "      <th>Date</th>\n",
       "      <th>Open</th>\n",
       "      <th>High</th>\n",
       "      <th>Low</th>\n",
       "      <th>Close</th>\n",
       "      <th>Adj Close</th>\n",
       "      <th>Volume</th>\n",
       "      <th>Stock Name</th>\n",
       "    </tr>\n",
       "  </thead>\n",
       "  <tbody>\n",
       "    <tr>\n",
       "      <th>0</th>\n",
       "      <td>2021-09-30</td>\n",
       "      <td>260.333344</td>\n",
       "      <td>263.043335</td>\n",
       "      <td>258.333344</td>\n",
       "      <td>258.493347</td>\n",
       "      <td>258.493347</td>\n",
       "      <td>53868000</td>\n",
       "      <td>TSLA</td>\n",
       "    </tr>\n",
       "    <tr>\n",
       "      <th>1</th>\n",
       "      <td>2021-10-01</td>\n",
       "      <td>259.466675</td>\n",
       "      <td>260.260010</td>\n",
       "      <td>254.529999</td>\n",
       "      <td>258.406677</td>\n",
       "      <td>258.406677</td>\n",
       "      <td>51094200</td>\n",
       "      <td>TSLA</td>\n",
       "    </tr>\n",
       "    <tr>\n",
       "      <th>2</th>\n",
       "      <td>2021-10-04</td>\n",
       "      <td>265.500000</td>\n",
       "      <td>268.989990</td>\n",
       "      <td>258.706665</td>\n",
       "      <td>260.510010</td>\n",
       "      <td>260.510010</td>\n",
       "      <td>91449900</td>\n",
       "      <td>TSLA</td>\n",
       "    </tr>\n",
       "    <tr>\n",
       "      <th>3</th>\n",
       "      <td>2021-10-05</td>\n",
       "      <td>261.600006</td>\n",
       "      <td>265.769989</td>\n",
       "      <td>258.066681</td>\n",
       "      <td>260.196655</td>\n",
       "      <td>260.196655</td>\n",
       "      <td>55297800</td>\n",
       "      <td>TSLA</td>\n",
       "    </tr>\n",
       "    <tr>\n",
       "      <th>4</th>\n",
       "      <td>2021-10-06</td>\n",
       "      <td>258.733337</td>\n",
       "      <td>262.220001</td>\n",
       "      <td>257.739990</td>\n",
       "      <td>260.916656</td>\n",
       "      <td>260.916656</td>\n",
       "      <td>43898400</td>\n",
       "      <td>TSLA</td>\n",
       "    </tr>\n",
       "  </tbody>\n",
       "</table>\n",
       "</div>"
      ],
      "text/plain": [
       "         Date        Open        High         Low       Close   Adj Close  \\\n",
       "0  2021-09-30  260.333344  263.043335  258.333344  258.493347  258.493347   \n",
       "1  2021-10-01  259.466675  260.260010  254.529999  258.406677  258.406677   \n",
       "2  2021-10-04  265.500000  268.989990  258.706665  260.510010  260.510010   \n",
       "3  2021-10-05  261.600006  265.769989  258.066681  260.196655  260.196655   \n",
       "4  2021-10-06  258.733337  262.220001  257.739990  260.916656  260.916656   \n",
       "\n",
       "     Volume Stock Name  \n",
       "0  53868000       TSLA  \n",
       "1  51094200       TSLA  \n",
       "2  91449900       TSLA  \n",
       "3  55297800       TSLA  \n",
       "4  43898400       TSLA  "
      ]
     },
     "execution_count": 28,
     "metadata": {},
     "output_type": "execute_result"
    }
   ],
   "source": [
    "stocks = pd.read_csv(\"stock_yfinance_data.csv\")\n",
    "stocks.head()"
   ]
  },
  {
   "cell_type": "code",
   "execution_count": 31,
   "metadata": {},
   "outputs": [],
   "source": [
    "date_intervals = ['1 hour', '2 hours', '1 day']  # Define time intervals\n",
    "\n",
    "for interval in date_intervals:\n",
    "    data[f'stock_movement_{interval}'] = 'neutral'  # Initialize labels\n",
    "    \n",
    "    for index, tweet_row in data.iterrows():\n",
    "        tweet_time = tweet_row['Date']  # Use 'Date' column\n",
    "        \n",
    "        # Find the index of the row with the same timestamp in stocks DataFrame\n",
    "        stock_row_index = stocks[stocks['Date'] == tweet_time].index\n",
    "        \n",
    "        if len(stock_row_index) > 0:\n",
    "            stock_row_index = stock_row_index[0]  # Get the first matching index\n",
    "            \n",
    "            # Find the stock price at the beginning and end of the interval\n",
    "            stock_price_begin = stocks.loc[stock_row_index, 'Close']\n",
    "            stock_price_end_index = stock_row_index + pd.Timedelta(interval)\n",
    "            stock_price_end = stocks.loc[stock_price_end_index, 'Close']\n",
    "            \n",
    "            if stock_price_end > stock_price_begin:\n",
    "                data.at[index, f'stock_movement_{interval}'] = 'up'\n",
    "            elif stock_price_end < stock_price_begin:\n",
    "                data.at[index, f'stock_movement_{interval}'] = 'down'"
   ]
  },
  {
   "cell_type": "code",
   "execution_count": null,
   "metadata": {},
   "outputs": [],
   "source": [
    "data"
   ]
  },
  {
   "cell_type": "code",
   "execution_count": 56,
   "metadata": {},
   "outputs": [
    {
     "data": {
      "text/plain": [
       "<nltk.sentiment.vader.SentimentIntensityAnalyzer at 0x12d10be10>"
      ]
     },
     "execution_count": 56,
     "metadata": {},
     "output_type": "execute_result"
    }
   ],
   "source": []
  },
  {
   "cell_type": "code",
   "execution_count": 33,
   "metadata": {},
   "outputs": [
    {
     "name": "stderr",
     "output_type": "stream",
     "text": [
      "[nltk_data] Downloading package vader_lexicon to\n",
      "[nltk_data]     /Users/leoking/nltk_data...\n"
     ]
    },
    {
     "data": {
      "text/plain": [
       "True"
      ]
     },
     "execution_count": 33,
     "metadata": {},
     "output_type": "execute_result"
    }
   ],
   "source": [
    "nltk.download('vader_lexicon')"
   ]
  },
  {
   "cell_type": "code",
   "execution_count": 35,
   "metadata": {},
   "outputs": [],
   "source": [
    "X = data['cleaned_text']\n",
    "y = data['sentiment_label']"
   ]
  },
  {
   "cell_type": "code",
   "execution_count": 37,
   "metadata": {},
   "outputs": [],
   "source": [
    "# Split the data into training and testing sets\n",
    "X_train, X_test, y_train, y_test = train_test_split(X, y, test_size=0.2, random_state=42)\n"
   ]
  },
  {
   "cell_type": "code",
   "execution_count": 45,
   "metadata": {},
   "outputs": [
    {
     "data": {
      "text/plain": [
       "<16159x5000 sparse matrix of type '<class 'numpy.float64'>'\n",
       "\twith 330026 stored elements in Compressed Sparse Row format>"
      ]
     },
     "execution_count": 45,
     "metadata": {},
     "output_type": "execute_result"
    }
   ],
   "source": [
    "vectorizer = TfidfVectorizer(max_features=5000)  # You can adjust max_features as needed\n",
    "X_train_tfidf = vectorizer.fit_transform(X_train)\n",
    "X_test_tfidf = vectorizer.transform(X_test)\n",
    "X_test_tfidf"
   ]
  },
  {
   "cell_type": "code",
   "execution_count": 51,
   "metadata": {},
   "outputs": [
    {
     "name": "stdout",
     "output_type": "stream",
     "text": [
      "Random Forest Accuracy: 0.7918188006683582\n",
      "              precision    recall  f1-score   support\n",
      "\n",
      "    negative       0.92      0.43      0.59      3281\n",
      "     neutral       0.80      0.80      0.80      4656\n",
      "    positive       0.77      0.93      0.84      8222\n",
      "\n",
      "    accuracy                           0.79     16159\n",
      "   macro avg       0.83      0.72      0.74     16159\n",
      "weighted avg       0.81      0.79      0.78     16159\n",
      "\n"
     ]
    }
   ],
   "source": [
    "# Random Forest\n",
    "rf_classifier = RandomForestClassifier(n_estimators=100, random_state=42)\n",
    "rf_classifier.fit(X_train_tfidf, y_train)\n",
    "rf_predictions = rf_classifier.predict(X_test_tfidf)\n",
    "rf_accuracy = accuracy_score(y_test, rf_predictions)\n",
    "print(\"Random Forest Accuracy:\", rf_accuracy)\n",
    "print(classification_report(y_test, rf_predictions))"
   ]
  },
  {
   "cell_type": "code",
   "execution_count": 48,
   "metadata": {},
   "outputs": [
    {
     "data": {
      "image/png": "[encoded data removed]",
      "text/plain": [
       "<Figure size 800x600 with 1 Axes>"
      ]
     },
     "metadata": {},
     "output_type": "display_data"
    }
   ],
   "source": [
    "# Confusion matrix for Random Forest\n",
    "rf_cm = confusion_matrix(y_test, rf_predictions)\n",
    "plt.figure(figsize=(8, 6))\n",
    "sns.heatmap(rf_cm, annot=True, fmt='d', cmap='Blues', cbar=False)\n",
    "plt.title('Confusion Matrix - Random Forest')\n",
    "plt.xlabel('Predicted')\n",
    "plt.ylabel('Actual')\n",
    "plt.show()"
   ]
  },
  {
   "cell_type": "code",
   "execution_count": 52,
   "metadata": {},
   "outputs": [
    {
     "name": "stdout",
     "output_type": "stream",
     "text": [
      "SVM Accuracy: 0.8929389194875921\n",
      "              precision    recall  f1-score   support\n",
      "\n",
      "    negative       0.86      0.75      0.80      3281\n",
      "     neutral       0.87      0.93      0.90      4656\n",
      "    positive       0.92      0.93      0.92      8222\n",
      "\n",
      "    accuracy                           0.89     16159\n",
      "   macro avg       0.88      0.87      0.87     16159\n",
      "weighted avg       0.89      0.89      0.89     16159\n",
      "\n"
     ]
    }
   ],
   "source": [
    "# Support Vector Machines (SVM)\n",
    "svm_classifier = SVC(kernel='linear', random_state=42)\n",
    "svm_classifier.fit(X_train_tfidf, y_train)\n",
    "svm_predictions = svm_classifier.predict(X_test_tfidf)\n",
    "svm_accuracy = accuracy_score(y_test, svm_predictions)\n",
    "print(\"SVM Accuracy:\", svm_accuracy)\n",
    "print(classification_report(y_test, svm_predictions))"
   ]
  },
  {
   "cell_type": "code",
   "execution_count": 53,
   "metadata": {},
   "outputs": [
    {
     "data": {
      "image/png": "[encoded data removed]",
      "text/plain": [
       "<Figure size 800x600 with 1 Axes>"
      ]
     },
     "metadata": {},
     "output_type": "display_data"
    }
   ],
   "source": [
    "svm_cm = confusion_matrix(y_test, svm_predictions)\n",
    "plt.figure(figsize=(8, 6))\n",
    "sns.heatmap(svm_cm, annot=True, fmt='d', cmap='Blues', cbar=False)\n",
    "plt.title('Confusion Matrix - SVM')\n",
    "plt.xlabel('Predicted')\n",
    "plt.ylabel('Actual')\n",
    "plt.show()"
   ]
  },
  {
   "cell_type": "code",
   "execution_count": 54,
   "metadata": {},
   "outputs": [
    {
     "name": "stdout",
     "output_type": "stream",
     "text": [
      "Naive Bayes Accuracy: 0.6928646574664273\n",
      "              precision    recall  f1-score   support\n",
      "\n",
      "    negative       0.85      0.38      0.52      3281\n",
      "     neutral       0.83      0.45      0.58      4656\n",
      "    positive       0.64      0.96      0.77      8222\n",
      "\n",
      "    accuracy                           0.69     16159\n",
      "   macro avg       0.78      0.59      0.63     16159\n",
      "weighted avg       0.74      0.69      0.67     16159\n",
      "\n"
     ]
    }
   ],
   "source": [
    "nb_classifier = MultinomialNB()\n",
    "nb_classifier.fit(X_train_tfidf, y_train)\n",
    "nb_predictions = nb_classifier.predict(X_test_tfidf)\n",
    "nb_accuracy = accuracy_score(y_test, nb_predictions)\n",
    "print(\"Naive Bayes Accuracy:\", nb_accuracy)\n",
    "print(classification_report(y_test, nb_predictions))"
   ]
  },
  {
   "cell_type": "code",
   "execution_count": 55,
   "metadata": {},
   "outputs": [
    {
     "data": {
      "image/png": "[encoded data removed]",
      "text/plain": [
       "<Figure size 800x600 with 1 Axes>"
      ]
     },
     "metadata": {},
     "output_type": "display_data"
    }
   ],
   "source": [
    "# Confusion matrix for Naive Bayes\n",
    "nb_cm = confusion_matrix(y_test, nb_predictions)\n",
    "plt.figure(figsize=(8, 6))\n",
    "sns.heatmap(nb_cm, annot=True, fmt='d', cmap='Blues', cbar=False)\n",
    "plt.title('Confusion Matrix - Naive Bayes')\n",
    "plt.xlabel('Predicted')\n",
    "plt.ylabel('Actual')\n",
    "plt.show()"
   ]
  },
  {
   "cell_type": "code",
   "execution_count": 58,
   "metadata": {},
   "outputs": [
    {
     "name": "stdout",
     "output_type": "stream",
     "text": [
      "Random Forest Stock Movement Prediction Accuracy: 1.0\n",
      "              precision    recall  f1-score   support\n",
      "\n",
      "     neutral       1.00      1.00      1.00     16159\n",
      "\n",
      "    accuracy                           1.00     16159\n",
      "   macro avg       1.00      1.00      1.00     16159\n",
      "weighted avg       1.00      1.00      1.00     16159\n",
      "\n"
     ]
    }
   ],
   "source": [
    "# Merge the tweets DataFrame with the historical stock movement data\n",
    "merged_df = pd.merge(data, stocks, on='Date', how='left').copy()\n",
    "\n",
    "# Define a function to label stock movement based on price change\n",
    "def label_stock_movement(row):\n",
    "    if row['Close'] > row['Open']:\n",
    "        return 'up'\n",
    "    elif row['Close'] < row['Open']:\n",
    "        return 'down'\n",
    "    else:\n",
    "        return 'neutral'\n",
    "\n",
    "# Apply the function to generate stock movement labels\n",
    "merged_df['stock_movement'] = merged_df.apply(label_stock_movement, axis=1)\n",
    "\n",
    "# Prepare data for stock movement prediction model\n",
    "X_stock = merged_df['cleaned_text']\n",
    "y_stock = merged_df['stock_movement']\n",
    "\n",
    "# Split the data into training and testing sets\n",
    "X_train_stock, X_test_stock, y_train_stock, y_test_stock = train_test_split(X_stock, y_stock, test_size=0.2, random_state=42)\n",
    "\n",
    "# Create TF-IDF vectorizer\n",
    "vectorizer_stock = TfidfVectorizer(max_features=1000)  # You can adjust max_features as needed\n",
    "X_train_tfidf_stock = vectorizer_stock.fit_transform(X_train_stock)\n",
    "X_test_tfidf_stock = vectorizer_stock.transform(X_test_stock)\n",
    "\n",
    "# Train a Random Forest classifier for stock movement prediction\n",
    "rf_classifier_stock = RandomForestClassifier(n_estimators=100, random_state=42)\n",
    "rf_classifier_stock.fit(X_train_tfidf_stock, y_train_stock)\n",
    "rf_predictions_stock = rf_classifier_stock.predict(X_test_tfidf_stock)\n",
    "\n",
    "# Evaluate the model\n",
    "rf_accuracy_stock = accuracy_score(y_test_stock, rf_predictions_stock)\n",
    "print(\"Random Forest Stock Movement Prediction Accuracy:\", rf_accuracy_stock)\n",
    "print(classification_report(y_test_stock, rf_predictions_stock))\n"
   ]
  },
  {
   "cell_type": "code",
   "execution_count": null,
   "metadata": {},
   "outputs": [],
   "source": []
  }
 ],
 "metadata": {
  "kernelspec": {
   "display_name": "recommenders",
   "language": "python",
   "name": "python3"
  },
  "language_info": {
   "codemirror_mode": {
    "name": "ipython",
    "version": 3
   },
   "file_extension": ".py",
   "mimetype": "text/x-python",
   "name": "python",
   "nbconvert_exporter": "python",
   "pygments_lexer": "ipython3",
   "version": "3.11.4"
  },
  "orig_nbformat": 4
 },
 "nbformat": 4,
 "nbformat_minor": 2
}
